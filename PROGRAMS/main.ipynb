{
 "cells": [
  {
   "cell_type": "code",
   "execution_count": 1,
   "metadata": {},
   "outputs": [
    {
     "name": "stdout",
     "output_type": "stream",
     "text": [
      "[Errno 2] No such file or directory: 'PROGRAMS/'\n",
      "/Users/edmundsumpena/Documents/JHU/CIS 1/Programming Assignment 5/CIS_hw5/PROGRAMS\n"
     ]
    }
   ],
   "source": [
    "%cd PROGRAMS/"
   ]
  },
  {
   "cell_type": "code",
   "execution_count": 2,
   "metadata": {},
   "outputs": [],
   "source": [
    "import numpy as np\n",
    "from utils.dataloader import *\n",
    "from utils.coordinate_calibration import PointCloudRegistration\n",
    "from utils.meshgrid import Meshgrid\n",
    "from utils.icp import IterativeClosestPoint, Matching\n",
    "from utils.deformable_icp import DeformableICP"
   ]
  },
  {
   "cell_type": "code",
   "execution_count": 3,
   "metadata": {},
   "outputs": [
    {
     "name": "stdout",
     "output_type": "stream",
     "text": [
      "(7, 1568, 3)\n"
     ]
    }
   ],
   "source": [
    "OUTPUT_DIR = '../OUTPUT'\n",
    "DATA_DIR = './pa345_data'\n",
    "\n",
    "RIGID_BODY_DATA_A = f'{DATA_DIR}/Problem5-BodyA.txt'\n",
    "RIGID_BODY_DATA_B = f'{DATA_DIR}/Problem5-BodyB.txt'\n",
    "\n",
    "SURFACE_DATA = f'{DATA_DIR}/Problem5MeshFile.sur'\n",
    "\n",
    "SAMPLE_ID = 'A'\n",
    "SAMPLE_DATA = f'./pa345_data/PA5-{SAMPLE_ID}-Debug-SampleReadingsTest.txt'\n",
    "# SAMPLE_DATA = f'./pa345_data/PA4-{SAMPLE_ID}-Unknown-SampleReadingsTest.txt'\n",
    "\n",
    "# Load data files\n",
    "rigidbody_dl_A = RigidBodyDataloader.read_file(RIGID_BODY_DATA_A)\n",
    "rigidbody_dl_B = RigidBodyDataloader.read_file(RIGID_BODY_DATA_B)\n",
    "\n",
    "surface_dl = Surfaceloader.read_file(SURFACE_DATA)\n",
    "sample_dl = SampleReadingsDataloader.read_file(SAMPLE_DATA, delimiter=',', N_A=rigidbody_dl_A.N_markers, N_B=rigidbody_dl_B.N_markers)\n",
    "\n",
    "modes_dl = AtlasModesDataloader.read_file(f'{DATA_DIR}/Problem5Modes.txt')\n",
    "print(modes_dl.modes.shape)"
   ]
  },
  {
   "cell_type": "markdown",
   "metadata": {},
   "source": [
    "### Get F<sub>A, k</sub> and F<sub>B, k</sub>"
   ]
  },
  {
   "cell_type": "code",
   "execution_count": 4,
   "metadata": {},
   "outputs": [],
   "source": [
    "rigidbody_dl_A_markers = rigidbody_dl_A.markers.reshape(1, -1, 3) # markers of body A in body A coordinates\n",
    "\n",
    "sample_dl_A = sample_dl.body_A # samples of body A markers in tracker coordinates\n",
    "num_samples = sample_dl.N_samps\n",
    "\n",
    "# perform registration for each frame\n",
    "reg = PointCloudRegistration(verbose=False)\n",
    "F_A = []\n",
    "for i in range(num_samples):\n",
    "    sample_dl_A_i = sample_dl_A[i].reshape(1, -1, 3)\n",
    "    F_A_i, err = reg.register(rigidbody_dl_A_markers, sample_dl_A_i)\n",
    "    F_A.append(F_A_i)\n",
    "\n",
    "F_A = np.array(F_A)\n",
    "\n",
    "ridigbody_dl_B_markers = rigidbody_dl_B.markers.reshape(1, -1, 3) # markers of body B in body B coordinates\n",
    "sample_dl_B = sample_dl.body_B # samples of body B markers in tracker coordinates\n",
    "\n",
    "# perform registration for each frame\n",
    "F_B = []\n",
    "for i in range(num_samples):\n",
    "    sample_dl_B_i = sample_dl_B[i].reshape(1, -1, 3)\n",
    "\n",
    "    F_B_i, err = reg.register(ridigbody_dl_B_markers, sample_dl_B_i)\n",
    "    F_B.append(F_B_i)\n",
    "\n",
    "F_B = np.array(F_B)"
   ]
  },
  {
   "cell_type": "markdown",
   "metadata": {},
   "source": [
    "### Get d<sub>k</sub>"
   ]
  },
  {
   "cell_type": "code",
   "execution_count": 5,
   "metadata": {},
   "outputs": [
    {
     "name": "stdout",
     "output_type": "stream",
     "text": [
      "(150, 3)\n"
     ]
    }
   ],
   "source": [
    "A_tip = rigidbody_dl_A.tip\n",
    "A_tip = np.append(A_tip, 1) # add 1 for homogenous coordinates\n",
    "d_k = []\n",
    "\n",
    "for i in range(num_samples):\n",
    "    F_A_i = F_A[i] # get F_A for frame i\n",
    "    F_B_i_inv = np.linalg.inv(F_B[i]) # get F_B inverse for frame i\n",
    "\n",
    "    d_k.append(F_B_i_inv @ F_A_i @ A_tip) # d_k = F_B^-1 * F_A * A_tip\n",
    "\n",
    "d_k = np.array(d_k)[:,:3]\n",
    "print(d_k.shape)"
   ]
  },
  {
   "cell_type": "code",
   "execution_count": null,
   "metadata": {},
   "outputs": [
    {
     "name": "stdout",
     "output_type": "stream",
     "text": [
      "\n",
      "Performing rigid-body ICP...\n"
     ]
    },
    {
     "name": "stderr",
     "output_type": "stream",
     "text": [
      "25it [00:09<01:09,  2.52it/s, match=1.85, prev_match_ratio=1]    \n"
     ]
    },
    {
     "name": "stdout",
     "output_type": "stream",
     "text": [
      "Done.\n",
      "\n",
      "\n",
      "Performing deformable ICP...\n"
     ]
    },
    {
     "name": "stderr",
     "output_type": "stream",
     "text": [
      "28it [00:12<01:14,  2.32it/s, match=1.44, prev_match_ratio=1]    \n"
     ]
    },
    {
     "name": "stdout",
     "output_type": "stream",
     "text": [
      "Done.\n",
      "\n",
      "[[-33.38293563   0.44993634 -15.92053045]\n",
      " [ -5.74361555  21.92955346  40.20418696]\n",
      " [ 20.77984144   7.64453633 -32.8161748 ]\n",
      " [ -5.5674377   -3.83466229  50.66257299]\n",
      " [ 25.33255912  15.81870485  32.76123738]\n",
      " [  7.75930097  22.8924856   23.640651  ]\n",
      " [-19.02064502   9.74285468 -23.90747077]\n",
      " [ -6.22790134 -23.08072223 -23.05159599]\n",
      " [ -4.91130352 -19.0281377  -40.31795906]\n",
      " [ 10.03283938 -12.81230274  -2.72376181]\n",
      " [ -0.60545722 -16.04179507 -10.81616214]\n",
      " [ 28.18308854   0.45543014  34.25631964]\n",
      " [ -6.3021258  -22.20877323 -21.56113547]\n",
      " [-13.33244968 -26.58319713 -37.93313062]\n",
      " [ 38.86650762  11.64477546   8.01938155]\n",
      " [ 29.49475051  -8.93176473   8.12006629]\n",
      " [  1.45222554  -1.64103906 -24.05703723]\n",
      " [ 20.09313965  13.92033311 -30.6519897 ]\n",
      " [ 22.11910083  18.94719698  28.29370606]\n",
      " [ 21.12329819  21.68317708  16.12749086]\n",
      " [-15.64529167   6.70160187 -12.48803575]\n",
      " [-28.33429563 -16.03357374 -44.67992173]\n",
      " [ -3.89696862   4.46482185 -23.61953594]\n",
      " [ 11.37021341   8.39499517 -19.27865532]\n",
      " [  4.75749234  -2.79905757  60.74945189]\n",
      " [ 31.99606381  -9.76690041   4.48360341]\n",
      " [ 23.15564644   0.87118338  53.88724311]\n",
      " [ 40.72012129   1.81541958  11.71561021]\n",
      " [-36.76727543 -15.91180131 -34.25196152]\n",
      " [ 37.26909499  -5.38103615  10.98584785]\n",
      " [ -6.51839501  22.76129189  29.72711732]\n",
      " [ 26.17264111 -11.66081857  -0.57095051]\n",
      " [-22.85021461   8.98088183 -22.78558015]\n",
      " [ -4.59170336   6.68201829 -18.49873717]\n",
      " [  8.62717104  -7.1818139   47.81343668]\n",
      " [ -2.26124249  21.27159856  53.26059702]\n",
      " [ 29.00158589  14.34341958 -19.42578677]\n",
      " [ -7.38713513   6.82162749 -23.50256055]\n",
      " [-37.07425812 -20.44726851 -19.45295057]\n",
      " [ 33.33918753  -8.73300233  -7.17079009]\n",
      " [-27.24396404 -16.43163264 -45.0369398 ]\n",
      " [ -3.89574622   2.41100025 -28.31780486]\n",
      " [ -2.78999745  22.01979901   8.48432506]\n",
      " [-33.25557805   2.9127086  -35.5000424 ]\n",
      " [ 14.58973007  22.21582374  41.25976219]\n",
      " [ 21.53858105  19.41501507  46.46465243]\n",
      " [ 30.79772206  -1.27558679  26.18072217]\n",
      " [ 21.73740696  -7.0761564   19.80209296]\n",
      " [ 24.93801676  -5.15913991  28.7187428 ]\n",
      " [ 20.7526866   -5.55657134  38.24585415]\n",
      " [ 23.26331208   5.13787882  58.7145557 ]\n",
      " [ 20.08465674  22.644554     9.79377079]\n",
      " [  5.5962813   22.52239188  29.40884006]\n",
      " [-11.63648294  13.57091809  12.31592221]\n",
      " [-10.89823026  11.40369846   2.03865054]\n",
      " [-34.40155514  -4.27295353 -14.1871627 ]\n",
      " [ -1.49890735 -17.67535568 -25.73095157]\n",
      " [  6.15851511  -9.06897532  13.99047628]\n",
      " [-27.37109603 -27.99638454 -20.48840657]\n",
      " [ 30.06037476 -10.92209141  -1.48639765]\n",
      " [-37.07360987 -20.68622358 -19.7162007 ]\n",
      " [-23.04928913   9.43827972 -34.20407391]\n",
      " [-39.00196629 -18.98809568 -27.42307302]\n",
      " [ -3.31305454  -6.8375975   46.23657   ]\n",
      " [  9.07212793  22.25856338  37.07977013]\n",
      " [  2.76816708  -8.55742214  23.16008183]\n",
      " [-30.14971749   3.83225622 -38.44284776]\n",
      " [ 26.66764825   9.68451627  44.53908867]\n",
      " [ 37.46930588  -5.18499131  11.05404729]\n",
      " [  2.40778237  -8.53956171  25.58140174]\n",
      " [ -1.09696286 -12.8767963  -38.12668063]\n",
      " [-33.13193382   0.87123973 -16.26644732]\n",
      " [ -8.44980006 -23.27291231 -39.11050664]\n",
      " [-34.30703023   5.0388134  -21.8427904 ]\n",
      " [ -7.81103931  19.64728361  47.29852083]\n",
      " [-20.18513419 -26.5123195  -14.03468872]\n",
      " [-40.37867202  -2.66095663 -27.23864192]\n",
      " [ 32.65436403  -9.35481512  -6.70652705]\n",
      " [ 35.44526554  -3.7560434  -13.09103279]\n",
      " [ -2.19141187  22.45259145  39.41615696]\n",
      " [-20.07688148  -0.09385348  -0.87731576]\n",
      " [-11.41022581 -26.6503434  -36.08728174]\n",
      " [-11.964813    -0.85615008  27.00751877]\n",
      " [-22.56969054  -9.08922269  -4.62730056]\n",
      " [-13.48015752   9.06001028 -27.57594432]\n",
      " [-10.61286558 -12.32671847 -46.22340349]\n",
      " [ 27.80626065  -5.63950673  19.74714583]\n",
      " [ 28.43529046   8.30831651  35.19378373]\n",
      " [ -6.85337366 -18.75275425 -41.52149261]\n",
      " [-37.97094882   0.8386792  -27.89534705]\n",
      " [ 25.6804465   -3.15543033  34.15134782]\n",
      " [-23.63239107  -1.87841153 -45.94268639]\n",
      " [-34.27856918 -11.65886575 -41.32791899]\n",
      " [ 19.13102292  -5.91291584  37.15112833]\n",
      " [ 37.71194303  12.45196143   3.28056017]\n",
      " [-12.64297169 -29.21815322 -27.38111916]\n",
      " [ 39.00334997   0.08617707  -6.59872827]\n",
      " [ 15.67784634 -13.55638026   0.58020011]\n",
      " [ 20.80474512  20.2121958   56.87282357]\n",
      " [-29.0700482    6.06844914 -16.10990454]\n",
      " [ -5.71003785  -8.14717685 -47.55087556]\n",
      " [  0.98953284  24.58498413   6.86661186]\n",
      " [ -8.37078923 -14.01978484  -4.50078801]\n",
      " [ -6.40241036 -18.13024882 -11.87622431]\n",
      " [ 26.94906351  -3.645431    28.91599276]\n",
      " [-40.09147171  -3.54174131 -22.54974961]\n",
      " [ 35.99266747  -5.25657496   4.58607019]\n",
      " [ 13.86621592  23.00059487  21.83563784]\n",
      " [ -8.02339621 -23.57014283 -38.11762581]\n",
      " [ 18.7849857   -3.52940769  59.20646074]\n",
      " [-15.03312735  20.87160011  32.52573717]\n",
      " [-33.00413197 -19.58615675 -13.61299583]\n",
      " [ -3.46743009  20.01891261  56.99076447]\n",
      " [-24.27649526 -28.8367433  -32.70337499]\n",
      " [ 25.38825028  14.93123968  45.26838431]\n",
      " [-18.98789171 -30.39065022 -31.2359052 ]\n",
      " [ 23.66951075  23.08335754   1.30160445]\n",
      " [ 31.44451491  -3.64221848  21.20402233]\n",
      " [-10.34552489  -8.45937433  18.58578726]\n",
      " [ -7.01540591  -0.52326567  48.54328194]\n",
      " [ 30.14311785 -10.94997777  -7.46741526]\n",
      " [ 11.70236258  15.82261911 -32.51446061]\n",
      " [-13.88381023   9.39908711   3.85140055]\n",
      " [-23.9754828    7.82379512 -16.52296375]\n",
      " [ 25.2510603   -6.08336738  22.73992696]\n",
      " [  7.25621698  14.00032861 -24.47821421]\n",
      " [ 35.14723874  14.28868834  -2.83206046]\n",
      " [ 20.29082211  23.56173004   2.93173571]\n",
      " [ 17.08044886  24.3477657    2.83893681]\n",
      " [-30.06080889 -27.17430535 -29.08660648]\n",
      " [ 23.00428238 -10.07833682 -23.50829205]\n",
      " [  0.70042373  22.95017377  30.19295736]\n",
      " [-29.86272158   5.06271247 -37.92053456]\n",
      " [ 20.10527876  -3.40900638  53.13309506]\n",
      " [-33.77036844  -9.97443959 -42.19251307]\n",
      " [ 12.21044402  -6.81874725  41.85946445]\n",
      " [ 18.00315406  22.54660788 -23.49036802]\n",
      " [  1.32079241  -8.04523231 -28.99446134]\n",
      " [ 21.82582275 -10.26781581   3.10729667]\n",
      " [-13.85199533   0.86100453  22.3315648 ]\n",
      " [ 18.26965518  -2.41444025 -21.40010371]\n",
      " [-20.41916841 -30.29683103 -26.3321306 ]\n",
      " [-19.99968916   1.74755871  -4.0042203 ]\n",
      " [ 13.3491565   -7.2639747   24.94917251]\n",
      " [ 25.56478999  19.93162242 -20.66147337]\n",
      " [-12.3085797   21.558539    30.91145455]\n",
      " [ 42.16957725   3.18369331   8.91350655]\n",
      " [ 26.02663112  14.82717242  38.07052648]\n",
      " [ 34.88712632   7.86238216  17.64104564]\n",
      " [ 12.80609311  23.56472207  58.40796098]]\n",
      "[ 1.         -1.4854585  -0.10365743 -4.65386989 35.58843294 -3.60165983\n",
      " 18.83794465]\n"
     ]
    }
   ],
   "source": [
    "# Initialize ICP helper class \n",
    "deform_icp = DeformableICP()\n",
    "\n",
    "# Initialize meshgrid of Triangles\n",
    "mesh = Meshgrid(surface_dl.vertices, surface_dl.triangles)\n",
    "\n",
    "best_pt_cloud, closest_pt, dist, F_best, λ_best = deform_icp(d_k, mesh, modes_dl.modes)\n",
    "\n",
    "print(best_pt_cloud)\n",
    "print(λ_best)\n",
    "\n",
    "# a, ε, λ_new = deform_icp.test(d_k, mesh, modes_dl.modes)\n",
    "\n",
    "# print(a)\n",
    "# print(ε)\n",
    "# print(λ_new)\n",
    "\n",
    "# print(Q.shape)\n",
    "# print(d_k.shape)\n",
    "\n",
    "# print(d_k[4])\n",
    "# print(np.sum(Q[4] * λ.reshape(-1, 1), axis=0))"
   ]
  },
  {
   "cell_type": "code",
   "execution_count": 7,
   "metadata": {},
   "outputs": [
    {
     "ename": "AssertionError",
     "evalue": "",
     "output_type": "error",
     "traceback": [
      "\u001b[0;31m---------------------------------------------------------------------------\u001b[0m",
      "\u001b[0;31mAssertionError\u001b[0m                            Traceback (most recent call last)",
      "\u001b[0;32m/var/folders/c4/jbzqws1x1d785p_ghh6mppwm0000gn/T/ipykernel_28893/2103537015.py\u001b[0m in \u001b[0;36m<module>\u001b[0;34m\u001b[0m\n\u001b[0;32m----> 1\u001b[0;31m \u001b[0;32massert\u001b[0m \u001b[0;32mFalse\u001b[0m\u001b[0;34m\u001b[0m\u001b[0;34m\u001b[0m\u001b[0m\n\u001b[0m",
      "\u001b[0;31mAssertionError\u001b[0m: "
     ]
    }
   ],
   "source": [
    "assert False"
   ]
  },
  {
   "cell_type": "markdown",
   "metadata": {},
   "source": [
    "### Compute s<sub>k</sub>, c<sub>k</sub>, and d<sub>k</sub>"
   ]
  },
  {
   "cell_type": "code",
   "execution_count": null,
   "metadata": {},
   "outputs": [],
   "source": [
    "matching_algo = Matching.VECTORIZED_LINEAR  # Matching.VECTORIZED_LINEAR is the fastest\n",
    "\n",
    "# Initialize ICP helper class \n",
    "icp = IterativeClosestPoint(match_mode=matching_algo)\n",
    "\n",
    "# Initialize meshgrid of Triangles\n",
    "mesh = Meshgrid(surface_dl.vertices, surface_dl.triangles)\n",
    "\n",
    "best_cloud, closest_pt, dist, F = icp(d_k, mesh)"
   ]
  },
  {
   "cell_type": "markdown",
   "metadata": {},
   "source": [
    "### write output to file"
   ]
  },
  {
   "cell_type": "code",
   "execution_count": null,
   "metadata": {},
   "outputs": [],
   "source": [
    "output_file = f'{OUTPUT_DIR}/pa3-{SAMPLE_ID}-Output.txt'\n",
    "with open(output_file, 'w') as file:\n",
    "    file.write(f\"{num_samples}, {output_file}\\n\")\n",
    "    for sample in range(num_samples):\n",
    "        file.write(f\"{best_cloud[sample][0]:.2f} {best_cloud[sample][1]:.2f} {best_cloud[sample][2]:.2f} \")\n",
    "        file.write(f\"{closest_pt[sample][0]:.2f} {closest_pt[sample][1]:.2f} {closest_pt[sample][2]:.2f}\")\n",
    "        file.write(f\" {dist[sample]:.2f}\")\n",
    "        file.write(\"\\n\")\n",
    "\n",
    "print(f\"Output written to {output_file}\")\n"
   ]
  }
 ],
 "metadata": {
  "kernelspec": {
   "display_name": "pa4",
   "language": "python",
   "name": "python3"
  },
  "language_info": {
   "codemirror_mode": {
    "name": "ipython",
    "version": 3
   },
   "file_extension": ".py",
   "mimetype": "text/x-python",
   "name": "python",
   "nbconvert_exporter": "python",
   "pygments_lexer": "ipython3",
   "version": "3.9.20"
  }
 },
 "nbformat": 4,
 "nbformat_minor": 2
}
